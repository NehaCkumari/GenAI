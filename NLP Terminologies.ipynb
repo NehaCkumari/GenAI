{
 "cells": [
  {
   "cell_type": "markdown",
   "id": "8abbcbf7",
   "metadata": {},
   "source": [
    "1. Corpus -> Paragraphs\n",
    "2. Documents -> Sentences\n",
    "3. Vocabulary ->. Unique words present in the paragraph\n",
    "4. Words -> Words present in the corpus are reffered as words"
   ]
  },
  {
   "cell_type": "markdown",
   "id": "5d546db7",
   "metadata": {},
   "source": [
    "## Tokenization"
   ]
  },
  {
   "cell_type": "markdown",
   "id": "175e149a",
   "metadata": {},
   "source": [
    "<b> Corpus</b> = \"My name is Neha and I have started learning NLP. I am also working on the NLP projects.\"\n",
    "\n",
    "Performing tokkenisation on the above corpus would result in tokens (in this case <b>sentences</b>).\n",
    "\n",
    "Generated Tokens (Sentences):\n",
    "1. My name is Neha and I have started learning NLP.\n",
    "2. I am also working on the NLP projects.\n",
    "\n",
    "If I perform tokenisation on the 1st sentence to convert into words tokens (<b>words</b> in this case)\n",
    "\n",
    "Generated Tokens (words):\n",
    "1. My \n",
    "2. name \n",
    "3. is \n",
    "4. Neha \n",
    "5. and \n",
    "6. I \n",
    "7. have \n",
    "8. started \n",
    "9. learning\n",
    "10. NLP"
   ]
  },
  {
   "cell_type": "markdown",
   "id": "4411638a",
   "metadata": {},
   "source": [
    "<b> Corpus</b> I like to drink Apple Juice. My friend likes Mango Juice.\n",
    "\n",
    "After tokenisation, the corpus converted to sentences.\n",
    "1. I like to drink Apple Juice. \n",
    "2. My friend likes Mango Juice.\n",
    "\n",
    "After tokenisation into vocabulary,\n",
    "\n",
    "1. I \n",
    "2. like \n",
    "3. to \n",
    "4. drink \n",
    "5. Apple \n",
    "6. Juice\n",
    "7. My \n",
    "8. friend \n",
    "9. likes \n",
    "10. Mango \n",
    "\n",
    "Please note that li\n",
    "\n"
   ]
  }
 ],
 "metadata": {
  "kernelspec": {
   "display_name": "Python 3 (ipykernel)",
   "language": "python",
   "name": "python3"
  },
  "language_info": {
   "codemirror_mode": {
    "name": "ipython",
    "version": 3
   },
   "file_extension": ".py",
   "mimetype": "text/x-python",
   "name": "python",
   "nbconvert_exporter": "python",
   "pygments_lexer": "ipython3",
   "version": "3.11.5"
  }
 },
 "nbformat": 4,
 "nbformat_minor": 5
}
